{
 "cells": [
  {
   "cell_type": "markdown",
   "metadata": {},
   "source": [
    "    %reload_ext XXX.monkey\n",
    "    ---\n",
    "    %%monkey file -- args\n",
    "    trace"
   ]
  },
  {
   "cell_type": "code",
   "execution_count": 1,
   "metadata": {
    "collapsed": true
   },
   "outputs": [],
   "source": [
    "from monkeytype.tracing import CallTraceLogger, trace_calls\n",
    "from monkeytype.stubs import build_module_stubs_from_traces\n",
    "DUNDER = '__%s__'"
   ]
  },
  {
   "cell_type": "code",
   "execution_count": 2,
   "metadata": {
    "collapsed": true
   },
   "outputs": [],
   "source": [
    "class IPythonTraceLogger(CallTraceLogger):\n",
    "    \"\"\"A CallTraceLogger that stores logged traces in a CallTraceStore.\"\"\"\n",
    "    def __init__(self, data=None) -> None:\n",
    "        self.data = None or []\n",
    "        self.traces = []\n",
    "\n",
    "    def log(self, trace) -> None:\n",
    "        self.traces.append(trace)\n",
    "\n",
    "    def flush(self) -> None:\n",
    "        self.data.extend(self.traces)\n",
    "        self.traces = []\n",
    "        \n",
    "    def stubs(logger): return build_module_stubs_from_traces(logger.data).get(DUNDER%'main').render()"
   ]
  },
  {
   "cell_type": "code",
   "execution_count": 3,
   "metadata": {},
   "outputs": [],
   "source": [
    "from contextlib import contextmanager"
   ]
  },
  {
   "cell_type": "code",
   "execution_count": 4,
   "metadata": {},
   "outputs": [],
   "source": [
    "@contextmanager\n",
    "def trace(logger=None):\n",
    "    logger = logger or IPythonTraceLogger()\n",
    "    with trace_calls(logger):\n",
    "        yield logger\n",
    "        return None"
   ]
  },
  {
   "cell_type": "code",
   "execution_count": 5,
   "metadata": {
    "collapsed": true
   },
   "outputs": [],
   "source": [
    "def monkey(line, cell):\n",
    "    ip=__import__('IPython').get_ipython() \n",
    "    with trace() as logger:  \n",
    "        eval(cell, ip.user_ns, ip.user_ns)\n",
    "       \n",
    "    if line: \n",
    "        if 'retype' in line:\n",
    "            ip.set_next_input(retype(logger))\n",
    "        else:\n",
    "            ip.magics_manager.magics['cell']['file'](line, logger.stubs() + '\\n')\n",
    "    else:  \n",
    "        ip.set_next_input(logger.stubs())"
   ]
  },
  {
   "cell_type": "code",
   "execution_count": 6,
   "metadata": {},
   "outputs": [],
   "source": [
    "def retype(logger): \n",
    "    import retype\n",
    "    from typed_ast import ast3\n",
    "    from inspect import getsource\n",
    "    src = '\\n'.join(map(getsource, set(_.func for _ in logger.data if hasattr(_, 'func'))))\n",
    "    retype.Config.incremental = False\n",
    "    retype.Config.replace_any = True\n",
    "    src = retype.lib2to3_parse(src)\n",
    "    retype.reapply(\n",
    "        ast3.parse(logger.stubs()).body, src)\n",
    "    retype.fix_remaining_type_comments(src)\n",
    "    return retype.lib2to3_unparse(src, hg=False)"
   ]
  },
  {
   "cell_type": "code",
   "execution_count": 7,
   "metadata": {
    "collapsed": true
   },
   "outputs": [],
   "source": [
    "def load_ipython_extension(ip=__import__('IPython').get_ipython()):\n",
    "    ip.register_magic_function(monkey, 'cell')"
   ]
  }
 ],
 "metadata": {
  "kernelspec": {
   "display_name": "p6",
   "language": "python",
   "name": "other-env"
  },
  "language_info": {
   "codemirror_mode": {
    "name": "ipython",
    "version": 3
   },
   "file_extension": ".py",
   "mimetype": "text/x-python",
   "name": "python",
   "nbconvert_exporter": "python",
   "pygments_lexer": "ipython3",
   "version": "3.6.3"
  }
 },
 "nbformat": 4,
 "nbformat_minor": 2
}
