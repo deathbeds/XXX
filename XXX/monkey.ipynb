{
 "cells": [
  {
   "cell_type": "markdown",
   "metadata": {},
   "source": [
    "    %reload_ext XXX.monkey\n",
    "    ---\n",
    "    %%monkey file -- args\n",
    "    trace"
   ]
  },
  {
   "cell_type": "code",
   "execution_count": 1,
   "metadata": {
    "collapsed": true
   },
   "outputs": [],
   "source": [
    "from monkeytype.tracing import CallTraceLogger, trace_calls\n",
    "from monkeytype.stubs import build_module_stubs_from_traces\n",
    "DUNDER = '__%s__'"
   ]
  },
  {
   "cell_type": "code",
   "execution_count": 2,
   "metadata": {
    "collapsed": true
   },
   "outputs": [],
   "source": [
    "class IPythonTraceLogger(CallTraceLogger):\n",
    "    \"\"\"A CallTraceLogger that stores logged traces in a CallTraceStore.\"\"\"\n",
    "    def __init__(self, data=None) -> None:\n",
    "        self.data = None or []\n",
    "        self.traces = []\n",
    "\n",
    "    def log(self, trace) -> None:\n",
    "        self.traces.append(trace)\n",
    "\n",
    "    def flush(self) -> None:\n",
    "        self.data.extend(self.traces)\n",
    "        self.traces = []\n",
    "        \n",
    "    def stubs(logger): return build_module_stubs_from_traces(logger.data).get(DUNDER%'main').render()"
   ]
  },
  {
   "cell_type": "code",
   "execution_count": 27,
   "metadata": {},
   "outputs": [],
   "source": [
    "from contextlib import contextmanager"
   ]
  },
  {
   "cell_type": "code",
   "execution_count": 28,
   "metadata": {},
   "outputs": [],
   "source": [
    "@contextmanager\n",
    "def trace(logger=None):\n",
    "    logger = logger or IPythonTraceLogger()\n",
    "    with trace_calls(logger):\n",
    "        yield logger\n",
    "        return None"
   ]
  },
  {
   "cell_type": "code",
   "execution_count": 29,
   "metadata": {
    "collapsed": true
   },
   "outputs": [],
   "source": [
    "def monkey(line, cell):\n",
    "    ip=__import__('IPython').get_ipython() \n",
    "    with trace() as logger:  \n",
    "        eval(cell, ip.user_ns, ip.user_ns)\n",
    "       \n",
    "    if line: ip.magics_manager.magics['cell']['file'](line, logger.stubs() + '\\n')\n",
    "    else:  ip.set_next_input(logger.stubs())"
   ]
  },
  {
   "cell_type": "code",
   "execution_count": 30,
   "metadata": {
    "collapsed": true
   },
   "outputs": [],
   "source": [
    "def load_ipython_extension(ip=__import__('IPython').get_ipython()):\n",
    "    ip.register_magic_function(monkey, 'cell')"
   ]
  },
  {
   "cell_type": "code",
   "execution_count": null,
   "metadata": {},
   "outputs": [],
   "source": []
  },
  {
   "cell_type": "code",
   "execution_count": null,
   "metadata": {},
   "outputs": [],
   "source": []
  }
 ],
 "metadata": {
  "kernelspec": {
   "display_name": "p6",
   "language": "python",
   "name": "other-env"
  },
  "language_info": {
   "codemirror_mode": {
    "name": "ipython",
    "version": 3
   },
   "file_extension": ".py",
   "mimetype": "text/x-python",
   "name": "python",
   "nbconvert_exporter": "python",
   "pygments_lexer": "ipython3",
   "version": "3.6.3"
  }
 },
 "nbformat": 4,
 "nbformat_minor": 2
}
