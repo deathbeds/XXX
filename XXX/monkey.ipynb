{
 "cells": [
  {
   "cell_type": "markdown",
   "metadata": {},
   "source": [
    "# `XXX.monkey` dynamically types interactive code.\n",
    "\n",
    "---\n",
    "\n",
    ">>> `pip install monkeytype retype`\n",
    "\n",
    "---\n",
    "\n",
    "`XXX.monkey` uses [Instagram's](https://github.com/Instagram/MonkeyType) to trace function calls\n",
    "in a running Jupyter instance or `__import__('__main__')`.  \n",
    "\n",
    "`XXX.monkey` uses [@ambv's `retype`](https://github.com/ambv/retype) to automatically annotate a cell input with types.    \n",
    "\n",
    "The original is a [gist](http://nbviewer.jupyter.org/gist/tonyfast/81a14656f82e7aa31044c7fc5b1d4494)."
   ]
  },
  {
   "cell_type": "code",
   "execution_count": 1,
   "metadata": {
    "collapsed": true
   },
   "outputs": [],
   "source": [
    "from monkeytype.tracing import CallTraceLogger as Logger, trace_calls\n",
    "from monkeytype.stubs import build_module_stubs_from_traces\n",
    "DUNDER = '__%s__'"
   ]
  },
  {
   "cell_type": "markdown",
   "metadata": {},
   "source": [
    "# `XXX.IPythonTrace` is a `monkeytype.CallTraceLogger`\n",
    "\n",
    "The `monkeytype.CallTraceLogger` stores logged traces in a `monkeytype.CallTraceStore`"
   ]
  },
  {
   "cell_type": "code",
   "execution_count": 37,
   "metadata": {
    "collapsed": true
   },
   "outputs": [],
   "source": [
    "class Tracer(Logger):\n",
    "    def stubs(logger, modules=None, main=True): \n",
    "        modules = modules or []\n",
    "        if main: modules += [DUNDER%'main']\n",
    "        stubs = build_module_stubs_from_traces(logger.data)\n",
    "        return '\\n'.join(stubs.get(module).render() for module in modules)\n",
    "    \n",
    "    def __enter__(Logger): \n",
    "        Logger.ctx = trace_calls(Logger)\n",
    "        Logger.ctx.__enter__()\n",
    "        return Logger\n",
    "\n",
    "    def __exit__(Logger, *args, **kwargs): Logger.ctx.__exit__(*args, **kwargs)    \n",
    "    \n",
    "    def __init__(Logger, data=None): Logger.data, Logger.traces = None or [], []\n",
    "\n",
    "    def log(Logger, trace): Logger.traces.append(trace)\n",
    "\n",
    "    def flush(Logger): Logger.traces = Logger.data.extend(Logger.traces) or []\n",
    "        \n"
   ]
  },
  {
   "cell_type": "code",
   "execution_count": 38,
   "metadata": {
    "collapsed": true
   },
   "outputs": [],
   "source": [
    "def monkey(line, cell):\n",
    "    \"\"\"A IPython magic to trace the types of function calls.\"\"\"\n",
    "    ip=__import__('IPython').get_ipython() \n",
    "    with Tracer() as logger:  exec(compile(cell, '<typing>', 'exec'), ip.user_ns, ip.user_ns)\n",
    "       \n",
    "    if line.strip(): \n",
    "        # A special argument to Retype the functions expressed in the cell\n",
    "        if 'retype' in line: ip.set_next_input(retype(logger))\n",
    "        else:\n",
    "            # Apply the %%file magic parameters if line exists.\n",
    "            ip.magics_manager.magics['cell']['file'](line, logger.stubs() + '\\n')\n",
    "    else:  \n",
    "        # Other show the stub in the next call.\n",
    "        ip.set_next_input(logger.stubs())"
   ]
  },
  {
   "cell_type": "code",
   "execution_count": 39,
   "metadata": {},
   "outputs": [],
   "source": [
    "def retype(logger): \n",
    "    \"\"\"\n",
    "    >>> def f(x): return range(x), str(x), int(x)\n",
    "    \"\"\"\n",
    "    import retype\n",
    "    src = '\\n'.join(map(\n",
    "        __import__('inspect').getsource, set(_.func for _ in logger.data if hasattr(_, 'func'))))\n",
    "    retype.Config.incremental, retype.Config.replace_any = False, True\n",
    "    src = retype.lib2to3_parse(src)\n",
    "    retype.reapply(__import__('typed_ast').ast3.parse(logger.stubs()).body, src)\n",
    "    retype.fix_remaining_type_comments(src)\n",
    "    return retype.lib2to3_unparse(src, hg=False)"
   ]
  },
  {
   "cell_type": "markdown",
   "metadata": {},
   "source": [
    "# IPython magic."
   ]
  },
  {
   "cell_type": "code",
   "execution_count": 40,
   "metadata": {
    "collapsed": true
   },
   "outputs": [],
   "source": [
    "def load_ipython_extension(ip=__import__('IPython').get_ipython()):\n",
    "    ip.register_magic_function(monkey, 'cell')"
   ]
  },
  {
   "cell_type": "code",
   "execution_count": null,
   "metadata": {},
   "outputs": [],
   "source": [
    "if __name__ == '__main__':\n",
    "    load_ipython_extension()\n",
    "    print('✅🚫'[bool(__import__('doctest').testmod().failed)])\n",
    "    !source activate p6 && pytest tests/test_typing.ipynb"
   ]
  },
  {
   "cell_type": "code",
   "execution_count": null,
   "metadata": {},
   "outputs": [],
   "source": []
  }
 ],
 "metadata": {
  "kernelspec": {
   "display_name": "p6",
   "language": "python",
   "name": "other-env"
  },
  "language_info": {
   "codemirror_mode": {
    "name": "ipython",
    "version": 3
   },
   "file_extension": ".py",
   "mimetype": "text/x-python",
   "name": "python",
   "nbconvert_exporter": "python",
   "pygments_lexer": "ipython3",
   "version": "3.6.3"
  }
 },
 "nbformat": 4,
 "nbformat_minor": 2
}
