{
 "cells": [
  {
   "cell_type": "code",
   "execution_count": 1,
   "metadata": {},
   "outputs": [],
   "source": [
    "try:\n",
    "    from ..monkey import trace, retype\n",
    "except:\n",
    "    from XXX.monkey import trace, retype\n",
    "    \n",
    "def f(x): return range(x)\n",
    "def g(x): f(x)\n"
   ]
  },
  {
   "cell_type": "code",
   "execution_count": 2,
   "metadata": {},
   "outputs": [],
   "source": [
    "\"\"\"test tracing.\"\"\"\n",
    "with trace() as logged:\n",
    "    g(10) \n",
    "\n",
    "assert logged.stubs() == \"\"\"\n",
    "def f(x: int) -> range: ...\n",
    "\n",
    "\n",
    "def g(x: int) -> None: ...\n",
    "\"\"\".strip(), \"The generated stub do not match the expected stub.\""
   ]
  },
  {
   "cell_type": "markdown",
   "metadata": {},
   "source": [
    "this won't work \n",
    "\n",
    "    def d(): return __import__('pandas').DataFrame([[]])\n",
    "    with trace() as x:\n",
    "        d()"
   ]
  },
  {
   "cell_type": "code",
   "execution_count": 3,
   "metadata": {},
   "outputs": [],
   "source": [
    "\"\"\"test_import_scope\"\"\"\n",
    "\n",
    "from pandas import DataFrame\n",
    "def d(): \n",
    "    return DataFrame([[]])\n",
    "with trace() as logged:\n",
    "    d()\n",
    "\n",
    "assert logged.stubs() == \"\"\"\n",
    "from pandas.core.frame import DataFrame\n",
    "\n",
    "\n",
    "def d() -> DataFrame: ...\n",
    "\"\"\".strip(), 'Works with an extenal module.'"
   ]
  },
  {
   "cell_type": "code",
   "execution_count": 9,
   "metadata": {},
   "outputs": [],
   "source": [
    "\"\"\"test_retyping\"\"\"\n",
    "with trace() as logged:\n",
    "    g(10) \n",
    "\n",
    "lines = \"\"\"def g(x: int) -> None: f(x)\n",
    "def f(x: int) -> range: return range(x)\n",
    "\"\"\".strip().splitlines()\n",
    "\n",
    "retyped = retype(logged)\n",
    "\n",
    "assert [lines.pop(lines.index(line))for line in retyped.splitlines() if line in lines] and not lines"
   ]
  }
 ],
 "metadata": {
  "kernelspec": {
   "display_name": "Python 3",
   "language": "python",
   "name": "python3"
  },
  "language_info": {
   "codemirror_mode": {
    "name": "ipython",
    "version": 3
   },
   "file_extension": ".py",
   "mimetype": "text/x-python",
   "name": "python",
   "nbconvert_exporter": "python",
   "pygments_lexer": "ipython3",
   "version": "3.6.3"
  }
 },
 "nbformat": 4,
 "nbformat_minor": 2
}
