{
 "cells": [
  {
   "cell_type": "code",
   "execution_count": 1,
   "metadata": {},
   "outputs": [],
   "source": [
    "try:\n",
    "    from ..monkey import trace\n",
    "except:\n",
    "    from XXX.monkey import trace"
   ]
  },
  {
   "cell_type": "code",
   "execution_count": 11,
   "metadata": {},
   "outputs": [],
   "source": [
    "\"\"\"test tracing.\"\"\"\n",
    "\n",
    "def f(x): return range(x)\n",
    "def g(x): f(x)\n",
    "\n",
    "with trace() as logged:\n",
    "    g(10) \n",
    "\n",
    "assert logged.stubs() == \"\"\"\n",
    "def f(x: int) -> range: ...\n",
    "\n",
    "\n",
    "def g(x: int) -> None: ...\n",
    "\"\"\".strip(), \"The generated stub does not match the expected stub.\""
   ]
  },
  {
   "cell_type": "code",
   "execution_count": null,
   "metadata": {},
   "outputs": [],
   "source": []
  }
 ],
 "metadata": {
  "kernelspec": {
   "display_name": "Python 3",
   "language": "python",
   "name": "python3"
  },
  "language_info": {
   "codemirror_mode": {
    "name": "ipython",
    "version": 3
   },
   "file_extension": ".py",
   "mimetype": "text/x-python",
   "name": "python",
   "nbconvert_exporter": "python",
   "pygments_lexer": "ipython3",
   "version": "3.6.3"
  }
 },
 "nbformat": 4,
 "nbformat_minor": 2
}
