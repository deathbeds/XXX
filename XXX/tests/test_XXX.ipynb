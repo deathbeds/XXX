{
 "cells": [
  {
   "cell_type": "code",
   "execution_count": 1,
   "metadata": {},
   "outputs": [],
   "source": [
    "\"\"\"test_import\"\"\"\n",
    "try:\n",
    "    from . import test_XXX\n",
    "except:\n",
    "    import XXX.tests.test_XXX\n",
    "assert XXX.tests.test_XXX.__complete__"
   ]
  },
  {
   "cell_type": "code",
   "execution_count": 3,
   "metadata": {},
   "outputs": [],
   "source": [
    "\"\"\"test utube\"\"\"\n",
    "try:\n",
    "    from .. import utube\n",
    "except:\n",
    "    from XXX import utube\n",
    "assert utube.__complete__ is True\n",
    "assert utube.load_ipython_extension"
   ]
  }
 ],
 "metadata": {
  "kernelspec": {
   "display_name": "Python 3",
   "language": "python",
   "name": "python3"
  },
  "language_info": {
   "codemirror_mode": {
    "name": "ipython",
    "version": 3
   },
   "file_extension": ".py",
   "mimetype": "text/x-python",
   "name": "python",
   "nbconvert_exporter": "python",
   "pygments_lexer": "ipython3",
   "version": "3.6.3"
  }
 },
 "nbformat": 4,
 "nbformat_minor": 2
}
