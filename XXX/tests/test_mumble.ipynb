{
 "cells": [
  {
   "cell_type": "markdown",
   "metadata": {},
   "source": [
    "mumble_template is an example "
   ]
  },
  {
   "cell_type": "code",
   "execution_count": 1,
   "metadata": {},
   "outputs": [],
   "source": [
    "\"\"\"test_mumble\"\"\"\n",
    "%load_ext XXX.mumble\n",
    "from aye import from_file\n",
    "module = from_file('mumble_template.ipynb', capture=True)\n",
    "assert module.x == 42 and module.y == 'markdown'\n",
    "%unload_ext XXX.mumble"
   ]
  },
  {
   "cell_type": "markdown",
   "metadata": {},
   "source": [
    "The execute preprocessor should work."
   ]
  },
  {
   "cell_type": "code",
   "execution_count": 2,
   "metadata": {},
   "outputs": [],
   "source": [
    "\"\"\"test_execute_preprocessor\"\"\"\n",
    "from nbformat import reads\n",
    "from nbconvert.preprocessors.execute import ExecutePreprocessor\n",
    "from pathlib import Path\n",
    "nb = reads(Path('mumble_template.ipynb').read_text(), 4)\n",
    "for cell in nb.cells: cell.outputs = []\n",
    "assert not any(cell for cell in nb.cells if cell.outputs)\n",
    "nb, resources = ExecutePreprocessor().preprocess(nb, {})\n",
    "assert any(cell for cell in nb.cells if cell.outputs)"
   ]
  }
 ],
 "metadata": {
  "kernelspec": {
   "display_name": "Python 3",
   "language": "python",
   "name": "python3"
  },
  "language_info": {
   "codemirror_mode": {
    "name": "ipython",
    "version": 3
   },
   "file_extension": ".py",
   "mimetype": "text/x-python",
   "name": "python",
   "nbconvert_exporter": "python",
   "pygments_lexer": "ipython3",
   "version": "3.6.3"
  }
 },
 "nbformat": 4,
 "nbformat_minor": 2
}
