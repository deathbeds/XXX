{
 "cells": [
  {
   "cell_type": "markdown",
   "metadata": {},
   "source": [
    "`otto` automatically tests functions and classes.  Defining classes should do more than change the namespace.\n",
    "\n",
    "    %reload_ext XXX.otto\n",
    "    \n",
    "to install automatic testing."
   ]
  },
  {
   "cell_type": "code",
   "execution_count": 1,
   "metadata": {},
   "outputs": [],
   "source": [
    "from unittest import *\n",
    "from doctest import *\n",
    "from ast import *\n",
    "\n",
    "from typing import Callable\n",
    "from dataclasses import dataclass, field\n",
    "\n",
    "from inspect import signature"
   ]
  },
  {
   "cell_type": "code",
   "execution_count": 12,
   "metadata": {},
   "outputs": [],
   "source": [
    "    @dataclass\n",
    "    class Testing(object):\n",
    "        shell: 'ip' = field(default_factory=get_ipython)\n",
    "        tests = list()\n",
    "        \n",
    "        def pre_execute(self): Testing.tests = []\n",
    "            \n",
    "        def post_run_cell(Testing):\n",
    "            from types import ModuleType\n",
    "            globs = {}\n",
    "            tests = list()\n",
    "            module, main = ModuleType('__main__'), __import__('__main__')\n",
    "            module.__test__ = {}\n",
    "            if not Testing.tests: return\n",
    "            while Testing.tests:\n",
    "                object = Testing.tests.pop(0)\n",
    "                current = str(len(module.__test__))\n",
    "                if isinstance(object, Str):\n",
    "                    module.__test__[current] = object.s\n",
    "                if isinstance(object, ClassDef):    \n",
    "                    object = getattr(main, object.name)\n",
    "                    if hasattr(object, 'runTest') and not issubclass(object, TestCase):\n",
    "                        object = type(object.__name__, (TestCase, object), {})\n",
    "                    if issubclass(object, TestCase):\n",
    "                        tests.append(object())\n",
    "                    module.__test__[current] = object\n",
    "                if isinstance(object, FunctionDef):\n",
    "                    object = getattr(main, object.name)\n",
    "                    try:\n",
    "                        if not bool(dict(signature(object).parameters)):\n",
    "                            tests.append(FunctionTestCase(object))\n",
    "                    except: ...\n",
    "                    if getattr(object, '__doc__', ''):\n",
    "                        module.__test__[object.__name__] = object\n",
    "            if tests or module.__test__:\n",
    "                tests.append(DocTestSuite(module, vars(main)))\n",
    "                suite = TestSuite(tests)\n",
    "                TextTestRunner().run(suite)"
   ]
  },
  {
   "cell_type": "code",
   "execution_count": 13,
   "metadata": {},
   "outputs": [],
   "source": [
    "    class DiscoverTests(NodeTransformer):\n",
    "        def visit_star(self, node):\n",
    "            Testing.tests += node,\n",
    "            return node\n",
    "        visit_Str = visit_ClassDef =  visit_FunctionDef = visit_star"
   ]
  },
  {
   "cell_type": "code",
   "execution_count": 14,
   "metadata": {},
   "outputs": [],
   "source": [
    "    def load_ipython_extension(ip=get_ipython()):\n",
    "        testing = Testing(shell=get_ipython())\n",
    "        ip.ast_transformers = [DiscoverTests()]\n",
    "        ip.events.register('pre_execute', testing.pre_execute)\n",
    "        ip.events.register('post_run_cell', testing.post_run_cell)"
   ]
  }
 ],
 "metadata": {
  "kernelspec": {
   "display_name": "p6",
   "language": "python",
   "name": "other-env"
  },
  "language_info": {
   "codemirror_mode": {
    "name": "ipython",
    "version": 3
   },
   "file_extension": ".py",
   "mimetype": "text/x-python",
   "name": "python",
   "nbconvert_exporter": "python",
   "pygments_lexer": "ipython3",
   "version": "3.6.3"
  }
 },
 "nbformat": 4,
 "nbformat_minor": 2
}
