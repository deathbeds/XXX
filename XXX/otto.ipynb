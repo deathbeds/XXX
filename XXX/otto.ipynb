{
 "cells": [
  {
   "cell_type": "markdown",
   "metadata": {},
   "source": [
    "`otto` automatically tests functions and classes.  Defining classes should do more than change the namespace.\n",
    "\n",
    "    %reload_ext XXX.otto\n",
    "    \n",
    "to install automatic testing."
   ]
  },
  {
   "cell_type": "code",
   "execution_count": 1,
   "metadata": {},
   "outputs": [],
   "source": [
    "    from unittest import *\n",
    "    from doctest import *\n",
    "    from ast import *\n",
    "    from functools import partial\n",
    "    from typing import Callable\n",
    "    from dataclasses import dataclass, field\n",
    "\n",
    "    from inspect import *\n",
    "    from hypothesis import given, strategies, strategies as st, assume, HealthCheck, Verbosity, settings\n",
    "\n",
    "    INFER = True\n",
    "    def infer(object):\n",
    "        spec = getfullargspec(object)\n",
    "        annotations = {}\n",
    "        if not spec.args:\n",
    "            return FunctionTestCase(object)\n",
    "        else:\n",
    "            annotations.update(spec.annotations) \n",
    "            if not any(map(annotations.__contains__, spec.args)):\n",
    "                # ghetto typing\n",
    "                main = __import__('__main__')\n",
    "                for arg in spec.args:\n",
    "                    thing = eval(arg)\n",
    "                    if isinstance(thing, type):\n",
    "                        annotations[arg] = thing\n",
    "                    else: return\n",
    "            if not spec.defaults:\n",
    "                return FunctionTestCase(given(**{\n",
    "                    str: st.from_type(callable)\n",
    "                    for str, callable in annotations.items()\n",
    "                })(object))\n",
    "        "
   ]
  },
  {
   "cell_type": "code",
   "execution_count": 2,
   "metadata": {},
   "outputs": [],
   "source": [
    "    @dataclass\n",
    "    class Testing(object):\n",
    "        shell: 'ip' = field(default_factory=get_ipython)\n",
    "        tests = list()\n",
    "            \n",
    "        def post_run_cell(Testing):\n",
    "            from types import ModuleType\n",
    "            global INFER\n",
    "            module, main = ModuleType('__main__'), __import__('__main__')\n",
    "            tests = list()\n",
    "            module.__test__ = getattr(main, '__test__', {})\n",
    "            if not Testing.tests: return\n",
    "            while Testing.tests:\n",
    "                object = Testing.tests.pop(0)\n",
    "                current = str(len(module.__test__))\n",
    "                if isinstance(object, Str) and '>>> ' in object.s:\n",
    "                    module.__test__[current] = object.s\n",
    "                if isinstance(object, ClassDef):    \n",
    "                    object = getattr(main, object.name)\n",
    "                    if issubclass(object, TestCase):\n",
    "                        tests.append(object())\n",
    "                        continue\n",
    "                    if hasattr(object, 'runTest'):\n",
    "                        tests.append(FunctionTestCase(partial(object.runTest, object)))\n",
    "                        \n",
    "                    module.__test__[current] = object\n",
    "                if isinstance(object, FunctionDef):\n",
    "                    object = getattr(main, object.name)\n",
    "                    try:\n",
    "                        if INFER:\n",
    "                            _test = infer(object)\n",
    "                            _test and tests.append(_test)\n",
    "                    except: ...\n",
    "                    if getattr(object, '__doc__', ''):\n",
    "                        module.__test__[object.__name__] = object\n",
    "            if tests or module.__test__:\n",
    "                tests.append(DocTestSuite(module, vars(main)))\n",
    "                suite = TestSuite(tests)\n",
    "                TextTestRunner().run(suite)"
   ]
  },
  {
   "cell_type": "code",
   "execution_count": 3,
   "metadata": {},
   "outputs": [],
   "source": [
    "    class DiscoverTests(NodeTransformer):\n",
    "        def visit_star(self, node):\n",
    "            Testing.tests += node,\n",
    "            return node\n",
    "        visit_Str = visit_ClassDef =  visit_FunctionDef = visit_star"
   ]
  },
  {
   "cell_type": "code",
   "execution_count": 4,
   "metadata": {},
   "outputs": [],
   "source": [
    "    settings.register_profile('ip', settings(\n",
    "        suppress_health_check=(HealthCheck.return_value,),\n",
    "        verbosity=Verbosity.normal,))\n"
   ]
  },
  {
   "cell_type": "code",
   "execution_count": 5,
   "metadata": {},
   "outputs": [],
   "source": [
    "    def load_ipython_extension(ip=get_ipython()):\n",
    "        global testing\n",
    "        testing = Testing(shell=get_ipython())\n",
    "        ip.ast_transformers = [_ for _ in ip.ast_transformers if not isinstance(_, DiscoverTests)]+[DiscoverTests()]\n",
    "        ip.events.register('post_run_cell', testing.post_run_cell)\n",
    "        settings.load_profile('ip')"
   ]
  },
  {
   "cell_type": "code",
   "execution_count": 6,
   "metadata": {},
   "outputs": [],
   "source": [
    "    def unload_ipython_extension(ip=get_ipython()):\n",
    "        global testing\n",
    "        ip.ast_transformers = [_ for _ in ip.ast_transformers if not isinstance(_, DiscoverTests)]\n",
    "        ip.events.unregister('post_run_cell', testing.post_run_cell)"
   ]
  },
  {
   "cell_type": "code",
   "execution_count": 7,
   "metadata": {},
   "outputs": [],
   "source": [
    "    if __name__ == '__main__':\n",
    "        load_ipython_extension()\n",
    "    "
   ]
  },
  {
   "cell_type": "markdown",
   "metadata": {},
   "source": [
    "    !jupyter nbconvert --inplace --execute Untitled2.ipynb"
   ]
  }
 ],
 "metadata": {
  "kernelspec": {
   "display_name": "p6",
   "language": "python",
   "name": "other-env"
  },
  "language_info": {
   "codemirror_mode": {
    "name": "ipython",
    "version": 3
   },
   "file_extension": ".py",
   "mimetype": "text/x-python",
   "name": "python",
   "nbconvert_exporter": "python",
   "pygments_lexer": "ipython3",
   "version": "3.6.3"
  }
 },
 "nbformat": 4,
 "nbformat_minor": 2
}
