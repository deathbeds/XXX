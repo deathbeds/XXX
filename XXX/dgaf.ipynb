{
 "cells": [
  {
   "cell_type": "code",
   "execution_count": 1,
   "metadata": {},
   "outputs": [],
   "source": [
    "    # %reload_ext XXX.mumble\n",
    "    ip = get_ipython()\n",
    "    import CommonMark\n",
    "    from IPython.core.interactiveshell import InteractiveShell\n",
    "    from IPython.core.inputsplitter import IPythonInputSplitter\n",
    "    from IPython.core.compilerop import CachingCompiler\n",
    "    from IPython.utils.capture import capture_output\n",
    "    from textwrap import indent\n",
    "    import ast, json\n",
    "    from dataclasses import dataclass, field\n",
    "    from nbconvert.exporters import NotebookExporter, TemplateExporter, MarkdownExporter\n",
    "    from nbconvert.preprocessors import Preprocessor\n",
    "    from nbformat import v4, NotebookNode\n",
    "    from json.scanner import py_make_scanner\n",
    "    from json.decoder import JSONObject, JSONDecoder, WHITESPACE, WHITESPACE_STR\n",
    "    from traitlets import Unicode, Any, default, Bool\n",
    "    from dataclasses import dataclass, field\n",
    "    from types import ModuleType"
   ]
  },
  {
   "cell_type": "code",
   "execution_count": 2,
   "metadata": {},
   "outputs": [],
   "source": [
    "    def identity(object, *_, **__): return object"
   ]
  },
  {
   "cell_type": "markdown",
   "metadata": {},
   "source": [
    "To template:\n",
    "\n",
    "* Each cell is templated first.\n",
    "\n",
    "    * That cell is tested for SyntaxErrors\n",
    "    * A markdown cell will template then extract the source and incrementally built so the lines numbers are correct.\n",
    "\n",
    "* The source must incrementally template and evaluate the source.\n",
    "* Each time there is a formatted and valid source the node.Expr should be evaluated within the desired scope.\n",
    "* There is a stream of lines into a template.  That template needs to be formatted"
   ]
  },
  {
   "cell_type": "code",
   "execution_count": 3,
   "metadata": {},
   "outputs": [],
   "source": [
    "    from json.decoder import JSONDecoder\n",
    "    class NBDecoder(JSONDecoder):\n",
    "        def __init__(self, *, object_hook=None, parse_float=None, \n",
    "                     parse_int=None, parse_constant=None, \n",
    "                     strict=True, object_pairs_hook=None):\n",
    "            from json.scanner import py_make_scanner\n",
    "            super().__init__(object_hook=object_hook, parse_float=parse_float, parse_int=parse_int, \n",
    "                              parse_constant=parse_constant, strict=strict, \n",
    "                             object_pairs_hook=object_pairs_hook)\n",
    "            self.parse_object = self.object\n",
    "            self.scan_once = py_make_scanner(self)\n",
    "            \n",
    "        def object(self, s_and_end, strict, scan_once, object_hook, object_pairs_hook, \n",
    "                   memo=None, _w=WHITESPACE.match, _ws=WHITESPACE_STR):\n",
    "            str, id = s_and_end\n",
    "            object, next = JSONObject(s_and_end, strict, scan_once, object_hook, object_pairs_hook, memo=memo, _w=_w, _ws=_ws)\n",
    "\n",
    "            if 'cell_type' in object:\n",
    "                object['metadata'].update({\n",
    "                    'lineno':  len(str[:next].rsplit('\"source\":', 1)[0].splitlines())\n",
    "                })\n",
    "            if 'source' in object:\n",
    "                object['source'] = ''.join(object['source'])\n",
    "                \n",
    "            return NotebookNode(object), next\n",
    "        "
   ]
  },
  {
   "cell_type": "code",
   "execution_count": 4,
   "metadata": {},
   "outputs": [],
   "source": [
    "    class ModuleExporter(TemplateExporter):\n",
    "        name = Unicode('__main__')\n",
    "        filename = Unicode('<module exporter>')\n",
    "        parse = Any()\n",
    "        format = Bool(True)\n",
    "        outputs = Bool(True)\n",
    "        @default('parse')\n",
    "        def _default_parse(self):\n",
    "            return get_ipython() and get_ipython().compile.ast_parse or __import__('ast').parse\n",
    "        def from_filename(ModuleExporter,  filename, resources=None, **dict):\n",
    "            from pathlib import Path\n",
    "            ModuleExporter.filename = filename\n",
    "            ModuleExporter.name = Path(filename).stem\n",
    "            return super().from_filename(filename, resources, **dict)\n",
    "        \n",
    "        def from_file(ModuleExporter,  file_stream, resources=None, **dict):    \n",
    "            return ModuleExporter.from_notebook_node(v4.new_notebook(\n",
    "                **json.load(file_stream, cls=NBDecoder)), resources)\n",
    "\n",
    "        def from_notebook_node(self, nb, resource=None, *, module=None):            \n",
    "            from textwrap import dedent\n",
    "            \n",
    "            if module is None:\n",
    "                module = ModuleType(self.name)\n",
    "            module.__doc__ = MarkdownExporter(config={\n",
    "                'TemplateExporter': {'exclude_output': True}\n",
    "            }).from_notebook_node(nb)[0]\n",
    "            with capture_output() as output:\n",
    "                for cell in nb.cells:\n",
    "                    if cell['cell_type'] == 'code':    \n",
    "                        if self.format:\n",
    "                            source = self.environment.from_string(cell['source']).render(**module.__dict__)\n",
    "                        try:\n",
    "                            eval(\n",
    "                                compile(ast.increment_lineno(self.parse(\n",
    "                                    source, self.filename, 'exec'\n",
    "                                ), cell['metadata']['lineno']), self.filename, 'exec'),\n",
    "                                module.__dict__, module.__dict__)\n",
    "                        except BaseException as Exception:\n",
    "                            module.__complete__ = Exception\n",
    "                            break\n",
    "                else: module.__complete__ = True\n",
    "\n",
    "            if self.outputs: module.__output__ = output\n",
    "                \n",
    "            return module   "
   ]
  },
  {
   "cell_type": "code",
   "execution_count": 11,
   "metadata": {},
   "outputs": [],
   "source": [
    "    import ast"
   ]
  },
  {
   "cell_type": "code",
   "execution_count": 5,
   "metadata": {},
   "outputs": [],
   "source": [
    "    @dataclass\n",
    "    class Markdown(CachingCompiler): \n",
    "        input_transformer_manager: None = None\n",
    "        repr: callable = field(default=__import__('IPython').display.Markdown)\n",
    "        parser: CommonMark.Parser = field(default_factory=CommonMark.Parser)\n",
    "            \n",
    "        def __post_init__(Markdown): CachingCompiler.__init__(Markdown)\n",
    "            \n",
    "        def ast_parse(self, data, filename='<unknown>', symbol='exec'):\n",
    "            from IPython.display import display\n",
    "            module, str, Exception = ast.Module(body=[]), \"\"\"\"\"\", None\n",
    "            \n",
    "            return self.incremental_module(tuple(\n",
    "                (node.literal, *node.sourcepos[0]) for node, bool in self.parser.parse(data).walker() \n",
    "                if node.t == 'code_block'), filename=filename, symbol=symbol)\n",
    "        \n",
    "        def ast_parse_one(self, str, lineno=1, col_offset=0, filename='<unknown>', symbol='exec'):\n",
    "            module = ast.increment_lineno(super().ast_parse(\n",
    "                (self.input_transformer_manager and self.input_transformer_manager.transform_cell\n",
    "                 or identity\n",
    "                )(\n",
    "                str), filename=filename, symbol=symbol), lineno-1)\n",
    "            module.body = [\n",
    "                setattr(node, 'col_offset', col_offset) or node\n",
    "                for node in module.body]\n",
    "            return module\n",
    "            \n",
    "        def incremental_module(\n",
    "            self, lines: list = \"\"\"\"\"\", filename='<unknown>', symbol='exec', *, \n",
    "            module: ast.Module = None,\n",
    "        ) -> ast.Module:\n",
    "            \"\"\"Incrementally build a module accounting for magics\"\"\"\n",
    "            if not module: module = ast.Module(body=[])\n",
    "            str = \"\"\"\"\"\"\n",
    "            Exception = None\n",
    "            not_an_expr = lines and lines[0][0].startswith('%%')\n",
    "            for id, (line, _lineno, _col_offset) in enumerate(lines):\n",
    "                if not str:\n",
    "                    lineno, col_offset = _lineno, _col_offset\n",
    "                str += line\n",
    "                try:\n",
    "                    if not not_an_expr or id is len(lines)-1:\n",
    "                        body = self.ast_parse_one(\n",
    "                            str, lineno, col_offset, filename, symbol).body\n",
    "                        \n",
    "                        if not module.body:\n",
    "                            if not isinstance(body[0], ast.Expr):\n",
    "                                not_an_expr = True\n",
    "                        else:\n",
    "                            module.body += body\n",
    "                        if\n",
    "                        str, Exception = \"\"\"\"\"\", None\n",
    "                except SyntaxError as BaseException: \n",
    "                    Exception = BaseException                \n",
    "            if Exception: raise Exception\n",
    "\n",
    "            return ast.fix_missing_locations(module)\n",
    "\n",
    "                        \n",
    "    def load_ipython_extension(ip=get_ipython()): \n",
    "        ip.compile = Markdown()\n",
    "        ip.compile.input_transformer_manager = ip.input_transformer_manager\n",
    "        ip.input_transformer_manager = IPythonInputSplitter(\n",
    "            logical_line_transforms=[], physical_line_transforms=[], python_line_transforms=[])\n",
    "        update_hooks(NotebookLoader)\n",
    "        \n",
    "    def unload_ipython_extension(ip=get_ipython()): \n",
    "        ip.input_transformer_manager = ip.compile.input_transformer_manager\n",
    "        ip.compile = CachingCompiler()\n",
    "\n"
   ]
  },
  {
   "cell_type": "code",
   "execution_count": 6,
   "metadata": {},
   "outputs": [],
   "source": [
    "    from importlib.machinery import SourceFileLoader\n",
    "\n",
    "    class NotebookLoader(SourceFileLoader):\n",
    "        EXTENSION_SUFFIXES = '.ipynb',\n",
    "        def exec_module(Notebook, module): return module.__dict__.update(\n",
    "            vars(ModuleExporter().from_filename(Notebook.path, module=module)))"
   ]
  },
  {
   "cell_type": "code",
   "execution_count": 7,
   "metadata": {},
   "outputs": [],
   "source": [
    "    import sys\n",
    "\n",
    "    def update_hooks(*loaders):\n",
    "        global _NATIVE_HOOK\n",
    "        from importlib.machinery import FileFinder\n",
    "\n",
    "        if loaders:\n",
    "            for i, hook in enumerate(sys.path_hooks):\n",
    "                __closure__ = getattr(hook, '__closure__', None)\n",
    "                if __closure__ and issubclass(__closure__[0].cell_contents, FileFinder):\n",
    "                    _NATIVE_HOOK = globals().get('_NATIVE_HOOK', (i, hook))\n",
    "                    sys.path_hooks[i] = FileFinder.path_hook(\n",
    "                        *_NATIVE_HOOK[1].__closure__[1].cell_contents,\n",
    "                        *((loader, loader.EXTENSION_SUFFIXES) for loader in loaders\n",
    "                    ))\n",
    "        else:\n",
    "            sys.path_hooks[_NATIVE_HOOK[0]] = _NATIVE_HOOK[1]\n",
    "\n",
    "        \"\"\"https://docs.python.org/3/library/sys.html#sys.path_importer_cache\"\"\"\n",
    "        sys.path_importer_cache.clear()"
   ]
  },
  {
   "cell_type": "code",
   "execution_count": 8,
   "metadata": {},
   "outputs": [],
   "source": [
    "    if __name__ == '__main__': \n",
    "        load_ipython_extension()"
   ]
  },
  {
   "cell_type": "code",
   "execution_count": 9,
   "metadata": {},
   "outputs": [
    {
     "name": "stdout",
     "output_type": "stream",
     "text": [
      "['W', '__builtins__', '__call__', '__complete__', '__doc__', '__file__', '__loader__', '__name__', '__output__', '__package__', '__spec__', 'a', 'display', 'x', 'y']\n"
     ]
    }
   ],
   "source": [
    "    if __name__ == '__main__':\n",
    "\n",
    "Literate markdown cells are tracebacks are consistent\n",
    "    \n",
    "        import SomeOutput\n",
    "        if not SomeOutput.__complete__: raise SomeOutput.__complete__\n",
    "        print(dir(SomeOutput))\n",
    "        "
   ]
  },
  {
   "cell_type": "code",
   "execution_count": 10,
   "metadata": {},
   "outputs": [
    {
     "name": "stdout",
     "output_type": "stream",
     "text": [
      "11\n",
      "From a template\n"
     ]
    },
    {
     "data": {
      "application/vnd.jupyter.widget-view+json": {
       "model_id": "27168fff7e9a492b80f294a09663bdd7",
       "version_major": 2,
       "version_minor": 0
      },
      "text/plain": [
       "A Jupyter Widget"
      ]
     },
     "metadata": {},
     "output_type": "display_data"
    }
   ],
   "source": [
    "---\n",
    "    \n",
    "        SomeOutput.__output__.show()"
   ]
  }
 ],
 "metadata": {
  "kernelspec": {
   "display_name": "p6",
   "language": "python",
   "name": "other-env"
  },
  "language_info": {
   "codemirror_mode": {
    "name": "ipython",
    "version": 3
   },
   "file_extension": ".py",
   "mimetype": "text/x-python",
   "name": "python",
   "nbconvert_exporter": "python",
   "pygments_lexer": "ipython3",
   "version": "3.6.3"
  },
  "toc": {
   "colors": {
    "hover_highlight": "#DAA520",
    "running_highlight": "#FF0000",
    "selected_highlight": "#FFD700"
   },
   "moveMenuLeft": true,
   "nav_menu": {
    "height": "29px",
    "width": "252px"
   },
   "navigate_menu": true,
   "number_sections": true,
   "sideBar": true,
   "threshold": 4,
   "toc_cell": false,
   "toc_section_display": "block",
   "toc_window_display": false,
   "widenNotebook": false
  },
  "varInspector": {
   "cols": {
    "lenName": 16,
    "lenType": 16,
    "lenVar": 40
   },
   "kernels_config": {
    "python": {
     "delete_cmd_postfix": "",
     "delete_cmd_prefix": "del ",
     "library": "var_list.py",
     "varRefreshCmd": "print(var_dic_list())"
    },
    "r": {
     "delete_cmd_postfix": ") ",
     "delete_cmd_prefix": "rm(",
     "library": "var_list.r",
     "varRefreshCmd": "cat(var_dic_list()) "
    }
   },
   "types_to_exclude": [
    "module",
    "function",
    "builtin_function_or_method",
    "instance",
    "_Feature"
   ],
   "window_display": false
  }
 },
 "nbformat": 4,
 "nbformat_minor": 2
}
