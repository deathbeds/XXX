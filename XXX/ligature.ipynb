{
 "cells": [
  {
   "cell_type": "code",
   "execution_count": 1,
   "metadata": {
    "collapsed": true
   },
   "outputs": [],
   "source": [
    "style = \"\"\"<style>\n",
    "    @font-face {\n",
    "      font-family: 'Fira Code';\n",
    "      src: url(\"https://cdn.rawgit.com/dunovank/jupyter-themes/1e851888/jupyterthemes/fonts/monospace/firacode/firacode.otf\") format(\"opentype\");\n",
    "    }\n",
    "\n",
    "    .CodeMirror {\n",
    "      font-family: 'Fira Code'; \n",
    "      font-variant-ligatures: initial;\n",
    "    }\n",
    "\n",
    "    .cm-string {\n",
    "        font-variant-ligatures: none;\n",
    "    }\n",
    "</style>\n",
    "\"\"\""
   ]
  },
  {
   "cell_type": "code",
   "execution_count": 3,
   "metadata": {
    "collapsed": true
   },
   "outputs": [],
   "source": [
    "def load_ipython_extension(ip=None):\n",
    "    \"\"\"Make a test that captures and tests the output.\"\"\"\n",
    "    from IPython.display import display, HTML\n",
    "    display(HTML(style))"
   ]
  }
 ],
 "metadata": {
  "kernelspec": {
   "display_name": "Python 3",
   "language": "python",
   "name": "python3"
  },
  "language_info": {
   "codemirror_mode": {
    "name": "ipython",
    "version": 3
   },
   "file_extension": ".py",
   "mimetype": "text/x-python",
   "name": "python",
   "nbconvert_exporter": "python",
   "pygments_lexer": "ipython3",
   "version": "3.6.3"
  }
 },
 "nbformat": 4,
 "nbformat_minor": 2
}
