{
 "cells": [
  {
   "cell_type": "markdown",
   "metadata": {},
   "source": [
    "# `mumble` creates input transformers for making documents.\n",
    "\n",
    "![](https://media.giphy.com/media/3oz8xAcfZkJ0kkntoQ/giphy.gif)"
   ]
  },
  {
   "cell_type": "code",
   "execution_count": 1,
   "metadata": {},
   "outputs": [],
   "source": [
    "    from toolz.curried import *\n",
    "    from textwrap import indent\n",
    "    from textwrap import dedent\n",
    "    from inspect import getfullargspec\n",
    "    choices = list()\n",
    "    \n",
    "    show = True"
   ]
  },
  {
   "cell_type": "markdown",
   "metadata": {},
   "source": [
    "# `mumble` is fucking weird\n",
    "\n",
    "Use type annotations to define a criteria for a transformer.  Place the return source code in the docstring.  Told you!"
   ]
  },
  {
   "cell_type": "code",
   "execution_count": 2,
   "metadata": {},
   "outputs": [],
   "source": [
    "    @choices.append\n",
    "    def yaml(str: lambda x: x.strip().startswith('---')):\n",
    "        \"\"\"locals().update(dict(\n",
    "            sum((\n",
    "                list(dict.items()) for dict in __import__('yaml').safe_load_all('''{}''')\n",
    "                ), [])))\"\"\""
   ]
  },
  {
   "cell_type": "code",
   "execution_count": 3,
   "metadata": {},
   "outputs": [],
   "source": [
    "    @choices.append\n",
    "    def graphviz(str: lambda x: x.strip().startswith('graph') or x.strip().startswith('digraph')):\n",
    "        \"\"\"__import__('IPython').display.display(\n",
    "            __import__('graphviz').Source('''{}'''))\"\"\""
   ]
  },
  {
   "cell_type": "code",
   "execution_count": 4,
   "metadata": {},
   "outputs": [],
   "source": [
    "    @choices.append\n",
    "    def iframe(str: lambda x: x.strip().startswith('http')):\n",
    "        \"\"\"__import__('IPython').display.display(\n",
    "            __import__('IPython').display.IFrame(\n",
    "            '''{}''', 800, 600))\"\"\""
   ]
  },
  {
   "cell_type": "code",
   "execution_count": 5,
   "metadata": {},
   "outputs": [],
   "source": [
    "    from nbconvert.filters.markdown_mistune import IPythonRenderer, MarkdownWithMath\n",
    "    class Markdown(MarkdownWithMath):\n",
    "        \"\"\"A mistune.Markdown object that accumulates the source code in the markdown body.\n",
    "        \"\"\"\n",
    "        def render(Markdown, text):\n",
    "            from nbconvert.filters import ipython2python\n",
    "            Markdown.renderer.source = \"\"\"\"\"\"\n",
    "            return [super().render(text), ipython2python(Markdown.renderer.source)][-1]\n",
    "\n",
    "    class Renderer(IPythonRenderer):\n",
    "        \"\"\"A mistune.Renderer to use with `aye.Markdown`.\"\"\"\n",
    "        def __init__(Renderer, *args, **kwargs): \n",
    "            Renderer.source = super().__init__(*args, **kwargs) or \"\"\"\"\"\"\n",
    "\n",
    "        def block_code(Renderer, str, lang=None):\n",
    "            Renderer.source += '\\n' + str\n",
    "            return super().block_code(str, lang=lang)"
   ]
  },
  {
   "cell_type": "code",
   "execution_count": 6,
   "metadata": {},
   "outputs": [],
   "source": [
    "    from IPython.core.inputtransformer import InputTransformer\n",
    "    from IPython.core.inputsplitter import IPythonInputSplitter\n",
    "    \n",
    "    class Transformer(__import__('collections').UserList, InputTransformer):\n",
    "        push = __import__('collections').UserList.append\n",
    "        def reset(Transformer): \n",
    "            from inspect import getfullargspec\n",
    "            from IPython import display\n",
    "            source, Transformer.data = '\\n'.join(Transformer), []                \n",
    "            if show and source and source.splitlines()[0].strip(): display.display(display.Markdown(source))\n",
    "            source = Markdown(Renderer()).render(source)\n",
    "            for callable in choices:\n",
    "                spec = getfullargspec(callable)\n",
    "                if spec.annotations[spec.args[0]](source):\n",
    "                    source = callable.__doc__.format(source)\n",
    "                    break\n",
    "            return _NATIVE_TRANSFORM.transform_cell(source)\n",
    "        \n",
    "        def register(Transformer, object):\n",
    "            TRANSFORMERS += object,"
   ]
  },
  {
   "cell_type": "code",
   "execution_count": 7,
   "metadata": {},
   "outputs": [],
   "source": [
    "    def load_ipython_extension(ip=None):\n",
    "        from IPython import get_ipython\n",
    "        global _NATIVE_TRANSFORM\n",
    "        ip = ip or get_ipython()\n",
    "        _NATIVE_TRANSFORM = globals().get('_NATIVE_TRANSFORM', ip.input_transformer_manager)\n",
    "        ip.input_transformer_manager = IPythonInputSplitter([], [], [Transformer()])\n",
    "    \n",
    "    def unload_ipython_extension(ip=None):\n",
    "        from IPython import get_ipython\n",
    "        global _NATIVE_TRANSFORM\n",
    "        ip = ip or get_ipython()\n",
    "        ip.input_transformer_manager = globals().get('_NATIVE_TRANSFORM', ip.input_transformer_manager)"
   ]
  },
  {
   "cell_type": "markdown",
   "metadata": {},
   "source": [
    "    load_ipython_extension()"
   ]
  },
  {
   "cell_type": "markdown",
   "metadata": {},
   "source": [
    "# This is yaml\n",
    "    \n",
    "    ---\n",
    "    a: 10"
   ]
  },
  {
   "cell_type": "markdown",
   "metadata": {},
   "source": [
    "    assert 'a' in locals()"
   ]
  },
  {
   "cell_type": "markdown",
   "metadata": {},
   "source": [
    "A literate graph builder \n",
    "    \n",
    "    graph graphname {\n",
    "         a[href=\"http://google.com\" target=\"_blank\" label=\"Sugar\"] ;\n",
    "        a -- b -- c;\n",
    "         b -- d;\n",
    "\n",
    "    }"
   ]
  },
  {
   "cell_type": "code",
   "execution_count": null,
   "metadata": {},
   "outputs": [],
   "source": []
  },
  {
   "cell_type": "markdown",
   "metadata": {},
   "source": [
    "# "
   ]
  }
 ],
 "metadata": {
  "kernelspec": {
   "display_name": "p6",
   "language": "python",
   "name": "other-env"
  },
  "language_info": {
   "codemirror_mode": {
    "name": "ipython",
    "version": 3
   },
   "file_extension": ".py",
   "mimetype": "text/x-python",
   "name": "python",
   "nbconvert_exporter": "python",
   "pygments_lexer": "ipython3",
   "version": "3.6.3"
  }
 },
 "nbformat": 4,
 "nbformat_minor": 2
}
