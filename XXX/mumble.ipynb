{
 "cells": [
  {
   "cell_type": "markdown",
   "metadata": {},
   "source": [
    "# Mumble creates smart input transformers for making documents."
   ]
  },
  {
   "cell_type": "code",
   "execution_count": 1,
   "metadata": {},
   "outputs": [],
   "source": [
    "    from toolz.curried import *\n",
    "    from textwrap import indent\n",
    "    from textwrap import dedent\n",
    "    from inspect import getfullargspec\n",
    "    choices = list()"
   ]
  },
  {
   "cell_type": "code",
   "execution_count": 2,
   "metadata": {},
   "outputs": [],
   "source": [
    "    @choices.append\n",
    "    def yaml(str: lambda x: x.strip().startswith('---')):\n",
    "        \"\"\"locals().update(dict(\n",
    "            sum((\n",
    "                list(dict.items()) for dict in __import__('yaml').safe_load_all(\\\"\\\"\\\"%s\\\"\\\"\\\")\n",
    "                ), [])\n",
    "        ))\"\"\""
   ]
  },
  {
   "cell_type": "code",
   "execution_count": 3,
   "metadata": {},
   "outputs": [],
   "source": [
    "    @choices.append\n",
    "    def graphviz(str: lambda x: x.strip().startswith('graph') or x.strip().startswith('digraph')):\n",
    "        \"\"\"__import__('IPython').display.display(\n",
    "            __import__('graphviz').Source(\n",
    "            \\\"\\\"\\\"%s\\\"\\\"\\\"\n",
    "        ))\"\"\""
   ]
  },
  {
   "cell_type": "code",
   "execution_count": 4,
   "metadata": {},
   "outputs": [],
   "source": [
    "    from nbconvert.filters.markdown_mistune import IPythonRenderer, MarkdownWithMath\n",
    "    class Markdown(MarkdownWithMath):\n",
    "        \"\"\"A mistune.Markdown object that accumulates the source code in the markdown body.\n",
    "        \"\"\"\n",
    "        def render(Markdown, text):\n",
    "            from nbconvert.filters import ipython2python\n",
    "            Markdown.renderer.source = \"\"\"\"\"\"\n",
    "            return [super().render(text), ipython2python(Markdown.renderer.source)][-1]\n",
    "\n",
    "    class Renderer(IPythonRenderer):\n",
    "        \"\"\"A mistune.Renderer to use with `aye.Markdown`.\"\"\"\n",
    "        def __init__(Renderer, *args, **kwargs): \n",
    "            Renderer.source = super().__init__(*args, **kwargs) or \"\"\"\"\"\"\n",
    "\n",
    "        def block_code(Renderer, str, lang=None):\n",
    "            Renderer.source += '\\n' + str\n",
    "            return super().block_code(str, lang=lang)"
   ]
  },
  {
   "cell_type": "code",
   "execution_count": 5,
   "metadata": {},
   "outputs": [],
   "source": [
    "    from IPython.core.inputtransformer import InputTransformer    \n",
    "    \n",
    "    class Transformer(__import__('collections').UserList, InputTransformer):\n",
    "        push = __import__('collections').UserList.append\n",
    "        def reset(Transformer): \n",
    "            from inspect import getfullargspec\n",
    "            source, Transformer.data = '\\n'.join(Transformer), []                \n",
    "            source = Markdown(Renderer()).render(source)\n",
    "            for callable in choices:\n",
    "                spec = getfullargspec(callable)\n",
    "                if spec.annotations[spec.args[0]](source):\n",
    "                    source = callable.__doc__%source\n",
    "                    break\n",
    "            return source\n",
    "        \n",
    "        def register(Transformer, object):\n",
    "            TRANSFORMERS += object,"
   ]
  },
  {
   "cell_type": "code",
   "execution_count": 6,
   "metadata": {},
   "outputs": [],
   "source": [
    "    def load_ipython_extension(ip=None):\n",
    "        from IPython import get_ipython\n",
    "        global _NATIVE_TRANSFORM\n",
    "        ip = ip or get_ipython()\n",
    "        _NATIVE_TRANSFORM = globals().get('_NATIVE_TRANSFORM', ip.input_transformer_manager)\n",
    "        ip.input_transformer_manager.logical_line_transforms = []\n",
    "        ip.input_transformer_manager.physical_line_transforms = []\n",
    "        ip.input_transformer_manager.python_line_transforms = [Transformer()]"
   ]
  },
  {
   "cell_type": "markdown",
   "metadata": {},
   "source": [
    "    load_ipython_extension()"
   ]
  },
  {
   "cell_type": "markdown",
   "metadata": {},
   "source": [
    "# This is yaml\n",
    "    \n",
    "    ---\n",
    "    a: 10"
   ]
  },
  {
   "cell_type": "markdown",
   "metadata": {},
   "source": [
    "    assert 'a' in locals()"
   ]
  },
  {
   "cell_type": "markdown",
   "metadata": {},
   "source": [
    "A literate graph builder \n",
    "    \n",
    "    graph graphname {\n",
    "         a -- b -- c;\n",
    "         b -- d;\n",
    "\n",
    "    }"
   ]
  }
 ],
 "metadata": {
  "kernelspec": {
   "display_name": "p6",
   "language": "python",
   "name": "other-env"
  },
  "language_info": {
   "codemirror_mode": {
    "name": "ipython",
    "version": 3
   },
   "file_extension": ".py",
   "mimetype": "text/x-python",
   "name": "python",
   "nbconvert_exporter": "python",
   "pygments_lexer": "ipython3",
   "version": "3.6.3"
  }
 },
 "nbformat": 4,
 "nbformat_minor": 2
}
