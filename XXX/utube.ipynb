{
 "cells": [
  {
   "cell_type": "markdown",
   "metadata": {},
   "source": [
    "<blockquote class=\"twitter-tweet\" data-lang=\"en\"><p lang=\"en\" dir=\"ltr\"><a href=\"https://twitter.com/hashtag/atlanta?src=hash&amp;ref_src=twsrc%5Etfw\">#atlanta</a> <a href=\"https://twitter.com/hashtag/jupyter?src=hash&amp;ref_src=twsrc%5Etfw\">#jupyter</a> organizer <a href=\"https://twitter.com/DocFast?ref_src=twsrc%5Etfw\">@DocFast</a> does <a href=\"https://twitter.com/hashtag/soulcleanse?src=hash&amp;ref_src=twsrc%5Etfw\">#soulcleanse</a> &amp; intentionally deletes 300+ <a href=\"https://twitter.com/hashtag/python?src=hash&amp;ref_src=twsrc%5Etfw\">#python</a> <a href=\"https://twitter.com/hashtag/ipynb?src=hash&amp;ref_src=twsrc%5Etfw\">#ipynb</a> files w/a <a href=\"https://twitter.com/hashtag/datascience?src=hash&amp;ref_src=twsrc%5Etfw\">#datascience</a> <a href=\"https://twitter.com/hashtag/analytics?src=hash&amp;ref_src=twsrc%5Etfw\">#analytics</a> <a href=\"https://twitter.com/hashtag/dev?src=hash&amp;ref_src=twsrc%5Etfw\">#dev</a> message: You learn/use concepts from those interim files, but <a href=\"https://twitter.com/hashtag/decluttering?src=hash&amp;ref_src=twsrc%5Etfw\">#decluttering</a> forces you to distill what you&#39;ve learned into your new work. <a href=\"https://t.co/TFJ04vOg7e\">pic.twitter.com/TFJ04vOg7e</a></p>&mdash; Warren Hearnes (@scianalytics) <a href=\"https://twitter.com/scianalytics/status/957363413839220738?ref_src=twsrc%5Etfw\">January 27, 2018</a></blockquote>\n",
    "<script async src=\"https://platform.twitter.com/widgets.js\" charset=\"utf-8\"></script>\n",
    "\n",
    "https://nbviewer.jupyter.org/gist/anonymous/fdc39ec2915f2f75def8032f9e5795ef"
   ]
  },
  {
   "cell_type": "code",
   "execution_count": 1,
   "metadata": {},
   "outputs": [],
   "source": [
    "import re\n",
    "from jinja2 import Template\n",
    "from IPython.display import display, HTML"
   ]
  },
  {
   "cell_type": "code",
   "execution_count": 2,
   "metadata": {},
   "outputs": [],
   "source": [
    "DEFAULT_VIDEO = \"0fKBhvDjuy0\"  # powers of ten"
   ]
  },
  {
   "cell_type": "code",
   "execution_count": 3,
   "metadata": {},
   "outputs": [],
   "source": [
    "params = [\"autoplay\", \"cc_load_policy\", \"color\", \"controls\",\n",
    "          \"disablekb\", \"enablejsapi\", \"end\", \"fs\", \"hl\",\n",
    "          \"iv_load_policy\", \"list\", \"listType\", \"loop\",\n",
    "          \"modestbranding\", \"mute\", \"playlist\", \"rel\", \"showinfo\",\n",
    "          \"start\", \"domain\"]\n",
    "params_re = r\"({})=(.*)\".format(\"|\".join(params))"
   ]
  },
  {
   "cell_type": "code",
   "execution_count": 4,
   "metadata": {},
   "outputs": [],
   "source": [
    "tmpl = Template(\"\"\"\n",
    "<style>\n",
    "    .notebook_app > #header {\n",
    "        opacity: 0.9;\n",
    "        background-color: rgba(255,255,255,1);\n",
    "    }\n",
    "    #notebook-container {\n",
    "        box-shadow: none;\n",
    "        background: transparent;\n",
    "    }\n",
    "    .notebook_app > #header:not(:hover),\n",
    "    .notebook_app > #pager:not(:hover)  {\n",
    "        opacity: 0.5;\n",
    "        background-color: transparent;\n",
    "    }\n",
    "    .notebook_app > #header:not(:hover) .btn,\n",
    "    .notebook_app > #header:not(:hover) select,\n",
    "    .notebook_app > #header:not(:hover) #menus,\n",
    "    .notebook_app > #header:not(:hover) .header-bar {\n",
    "        background-color: transparent !important;\n",
    "        border-color: transparent;\n",
    "    }\n",
    "    #notebook .cell:not(.selected) .input_area {\n",
    "        background: rgba(255,255,255, calc((100 - var(--ytbg-opacity)) / 100));\n",
    "        border-color: transparent;\n",
    "    }\n",
    "    #notebook .cell.selected .input_area {\n",
    "        background: rgba(255,255,255, calc(2 * (100 - var(--ytbg-opacity)) / 100));\n",
    "    }\n",
    "    iframe.ytbg {\n",
    "        opacity: calc(var(--ytbg-opacity) / 100);\n",
    "        position: fixed;\n",
    "        top: 0;\n",
    "        left: 0;\n",
    "        width: 100vw;\n",
    "        height: 100vh;\n",
    "        border: 0;\n",
    "    }\n",
    "</style>\n",
    "<style class=\"ytbg-vars\">\n",
    ":root {\n",
    "    --ytbg-opacity: 50;\n",
    "}\n",
    "</style>\n",
    "<script>\n",
    ";(function(){\n",
    "\n",
    "var url = '{{ url }}';\n",
    "var ytbg = $('iframe.ytbg'); \n",
    "if (!ytbg.length) { \n",
    "    $('<iframe />', {\n",
    "        \"class\": 'ytbg',\n",
    "        src: url\n",
    "    })\n",
    "    .prependTo('#notebook_panel, .nbviewer .container-main');\n",
    "    $('<div/>', {\"class\": 'ytbg btn-group'})\n",
    "    .append(\n",
    "        $('<input/>', {\"class\": \"input\", type: 'range'})\n",
    "        .on(\"input\", function(evt){\n",
    "            $('.ytbg-vars').text(\":root {--ytbg-opacity: \" + evt.currentTarget.value + \";}\")\n",
    "        })\n",
    "    )\n",
    "    .appendTo('#notification_area');\n",
    "} else if(ytbg.attr('src') !== url) {\n",
    "    ytbg.attr('src', url);\n",
    "}\n",
    "\n",
    "}).call(this);\n",
    "</script>\n",
    "\"\"\")"
   ]
  },
  {
   "cell_type": "code",
   "execution_count": 5,
   "metadata": {},
   "outputs": [],
   "source": [
    "def utube(line):\n",
    "    opts = {\n",
    "        \"autoplay\": 1,\n",
    "        \"loop\": 1,\n",
    "        \"modestbranding\": 1,\n",
    "        \"domain\": \"https://www.youtube-nocookie.com\",\n",
    "    }\n",
    "    v = None\n",
    "    for bit in line.strip().split(\" \"):\n",
    "        match = re.match(params_re, bit)\n",
    "        if match:\n",
    "            param, val = match.groups()\n",
    "            opts[param] = val\n",
    "        elif bit:\n",
    "            v = bit\n",
    "    \n",
    "    if \"listType\" in opts and \"list\" not in opts:\n",
    "        opts[\"list\"] = v\n",
    "        v = None\n",
    "    if v is None and \"list\" not in opts:\n",
    "        v = DEFAULT_VIDEO\n",
    "    \n",
    "    if opts.get(\"listType\") == \"search\":\n",
    "        domain = \"https://youtube.com\"\n",
    "    else:\n",
    "        domain = opts.pop(\"domain\")\n",
    "    \n",
    "    url = \"{}/embed/{}?{}\".format(\n",
    "        domain,\n",
    "        v if \"list\" not in opts else \"\",\n",
    "        \"&\".join([\"{}={}\".format(*i) for i in opts.items()])\n",
    "    )\n",
    "    display(HTML(tmpl.render(url=url)))"
   ]
  },
  {
   "cell_type": "code",
   "execution_count": 6,
   "metadata": {},
   "outputs": [],
   "source": [
    "def load_ipython_extension(ip=__import__('IPython').get_ipython()):\n",
    "    ip.register_magic_function(utube)"
   ]
  },
  {
   "cell_type": "code",
   "execution_count": 8,
   "metadata": {},
   "outputs": [],
   "source": [
    "__doc__ = \"\"\"## Powers Of Ten\n",
    "\n",
    "%utube\n",
    "\n",
    "## Zooming Mandelbrot set\n",
    "\n",
    "%utube PD2XgQOyCCk controls=0\n",
    "\n",
    "## 100+ hours of JS Bach\n",
    "\n",
    "%utube PLr5RRQC6c-2gOwHzEuOyD5qWEO8zIVKWz listType=playlist\n",
    "\n",
    "## You know, some whales\n",
    "\n",
    "%utube relaxing+whales listType=search controls=0\"\"\""
   ]
  }
 ],
 "metadata": {
  "kernelspec": {
   "display_name": "Python 3",
   "language": "python",
   "name": "python3"
  },
  "language_info": {
   "codemirror_mode": {
    "name": "ipython",
    "version": 3
   },
   "file_extension": ".py",
   "mimetype": "text/x-python",
   "name": "python",
   "nbconvert_exporter": "python",
   "pygments_lexer": "ipython3",
   "version": "3.6.3"
  }
 },
 "nbformat": 4,
 "nbformat_minor": 2
}
