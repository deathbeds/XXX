{
 "cells": [
  {
   "cell_type": "code",
   "execution_count": 1,
   "metadata": {},
   "outputs": [],
   "source": [
    "from typing import Callable\n",
    "from doctest import DocTest, DocTestRunner, DocTestParser, Example, testmod\n",
    "def doctest_from_string(str):\n",
    "    return DocTestRunner().run(\n",
    "        DocTest(list(\n",
    "            object for object in DocTestParser().parse(str) if isinstance(object, Example)\n",
    "        ), vars(__import__('__main__')), '__main__', None, None, str)\n",
    "    )\n",
    "def magic(*tuple):\n",
    "    str = '\\n'.join(filter(bool, tuple))\n",
    "    return doctest_from_string\n",
    "\n",
    "def doctest(callable):\n",
    "    mod = __import__(f\"{__name__}\" )\n",
    "    print(testmod(\n",
    "        mod, __name__, {callable.__name__: callable},\n",
    "        extraglobs=vars(mod)))\n",
    "    return callable\n",
    "\n",
    "def unittest(object):\n",
    "    print(__import__('unittest').TextTestRunner().run(object()))\n",
    "    return object\n",
    "\n",
    "def load_ipython_extension(ip):\n",
    "    ip.register_magic_function(magic, 'line_cell', 'doctest')"
   ]
  },
  {
   "cell_type": "code",
   "execution_count": 2,
   "metadata": {},
   "outputs": [
    {
     "name": "stderr",
     "output_type": "stream",
     "text": [
      "."
     ]
    },
    {
     "name": "stdout",
     "output_type": "stream",
     "text": [
      "TestResults(failed=0, attempted=0)\n",
      "<unittest.runner.TextTestResult run=1 errors=0 failures=0>\n"
     ]
    },
    {
     "name": "stderr",
     "output_type": "stream",
     "text": [
      "\n",
      "----------------------------------------------------------------------\n",
      "Ran 1 test in 0.001s\n",
      "\n",
      "OK\n"
     ]
    }
   ],
   "source": [
    "\n",
    "if __name__ == '__main__':\n",
    "    from unittest import TestCase\n",
    "    \n",
    "    @unittest\n",
    "    @doctest\n",
    "    class aTest(TestCase):\n",
    "        \"\"\"\n",
    "        >>> assert not callable(aTest)\n",
    "        >>> assert isinstance(aTest, type)\n",
    "        \"\"\"\n",
    "        def runTest(TestCase):\n",
    "            assert 1, \"not true\""
   ]
  },
  {
   "cell_type": "markdown",
   "metadata": {},
   "source": [
    "from XXX.monkey import Tracer\n",
    "\n",
    "def f(x):\n",
    "    \"\"\">>> assert f(10)\"\"\"\n",
    "    return range(x)\n",
    "\n",
    "with Tracer() as logged:\n",
    "    testmod(__import__('__main__'), '__main__', globals(), )\n",
    "\n",
    "[_ for _ in logged.data if _.func.__name__ == 'f']\n",
    "\n",
    "\n",
    "\n",
    ">>> @unittest\n",
    "... class test(TestCase):\n",
    "...    def runTest(TestCase):\n",
    "...         assert 1, \"not true\""
   ]
  }
 ],
 "metadata": {
  "kernelspec": {
   "display_name": "p6",
   "language": "python",
   "name": "other-env"
  },
  "language_info": {
   "codemirror_mode": {
    "name": "ipython",
    "version": 3
   },
   "file_extension": ".py",
   "mimetype": "text/x-python",
   "name": "python",
   "nbconvert_exporter": "python",
   "pygments_lexer": "ipython3",
   "version": "3.6.3"
  },
  "toc": {
   "colors": {
    "hover_highlight": "#DAA520",
    "running_highlight": "#FF0000",
    "selected_highlight": "#FFD700"
   },
   "moveMenuLeft": true,
   "nav_menu": {
    "height": "0px",
    "width": "250px"
   },
   "navigate_menu": true,
   "number_sections": true,
   "sideBar": true,
   "threshold": 4,
   "toc_cell": false,
   "toc_section_display": "block",
   "toc_window_display": false,
   "widenNotebook": false
  },
  "varInspector": {
   "cols": {
    "lenName": 16,
    "lenType": 16,
    "lenVar": 40
   },
   "kernels_config": {
    "python": {
     "delete_cmd_postfix": "",
     "delete_cmd_prefix": "del ",
     "library": "var_list.py",
     "varRefreshCmd": "print(var_dic_list())"
    },
    "r": {
     "delete_cmd_postfix": ") ",
     "delete_cmd_prefix": "rm(",
     "library": "var_list.r",
     "varRefreshCmd": "cat(var_dic_list()) "
    }
   },
   "types_to_exclude": [
    "module",
    "function",
    "builtin_function_or_method",
    "instance",
    "_Feature"
   ],
   "window_display": false
  }
 },
 "nbformat": 4,
 "nbformat_minor": 2
}
